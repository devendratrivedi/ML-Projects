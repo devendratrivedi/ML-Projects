{
 "cells": [
  {
   "cell_type": "markdown",
   "metadata": {
    "id": "hTYgQSDMulDW"
   },
   "source": [
    "# Bank Churn Prediction\n",
    "Given a Bank customer, can we build a classifier that can determine whether they will leave or not using Neural networks?\n",
    "\n",
    "# Dataset\n",
    "Bank Turnover Dataset\n",
    "https://www.kaggle.com/barelydedicated/bank-customer-churn-modeling"
   ]
  },
  {
   "cell_type": "markdown",
   "metadata": {
    "id": "QnkUrUtYvA-l"
   },
   "source": [
    "# 1. Read the dataset"
   ]
  },
  {
   "cell_type": "code",
   "execution_count": 39,
   "metadata": {
    "id": "Y-LrvSzRfAaU"
   },
   "outputs": [],
   "source": [
    "import pandas as pd\n",
    "import numpy as np\n",
    "import matplotlib.pyplot as plt\n",
    "import seaborn as sns\n",
    "from scipy.stats import zscore\n",
    "from sklearn.preprocessing import LabelEncoder\n",
    "from tensorflow.keras.utils import to_categorical\n",
    "from sklearn.model_selection import train_test_split\n",
    "import tensorflow as tf\n",
    "from tensorflow.keras import models\n",
    "from tensorflow.keras.layers import Dense"
   ]
  },
  {
   "cell_type": "code",
   "execution_count": 40,
   "metadata": {
    "id": "dUkmC4fnfEjP"
   },
   "outputs": [],
   "source": [
    "### Removes warnings that occassionally show up\n",
    "import warnings\n",
    "warnings.filterwarnings('ignore')"
   ]
  },
  {
   "cell_type": "code",
   "execution_count": 41,
   "metadata": {
    "colab": {
     "base_uri": "https://localhost:8080/"
    },
    "id": "H2LIaf2nfHJ3",
    "outputId": "c760a44b-ab12-4e91-87e1-82644acfbc64"
   },
   "outputs": [
    {
     "name": "stdout",
     "output_type": "stream",
     "text": [
      "Drive already mounted at /content/drive; to attempt to forcibly remount, call drive.mount(\"/content/drive\", force_remount=True).\n"
     ]
    }
   ],
   "source": [
    "from google.colab import drive\n",
    "drive.mount('/content/drive')"
   ]
  },
  {
   "cell_type": "code",
   "execution_count": 42,
   "metadata": {
    "colab": {
     "base_uri": "https://localhost:8080/",
     "height": 416
    },
    "id": "tbRI22VffvAd",
    "outputId": "235779dc-f28f-4e5c-d9a3-89cba6633aef"
   },
   "outputs": [
    {
     "data": {
      "text/html": [
       "<div>\n",
       "<style scoped>\n",
       "    .dataframe tbody tr th:only-of-type {\n",
       "        vertical-align: middle;\n",
       "    }\n",
       "\n",
       "    .dataframe tbody tr th {\n",
       "        vertical-align: top;\n",
       "    }\n",
       "\n",
       "    .dataframe thead th {\n",
       "        text-align: right;\n",
       "    }\n",
       "</style>\n",
       "<table border=\"1\" class=\"dataframe\">\n",
       "  <thead>\n",
       "    <tr style=\"text-align: right;\">\n",
       "      <th></th>\n",
       "      <th>RowNumber</th>\n",
       "      <th>CustomerId</th>\n",
       "      <th>Surname</th>\n",
       "      <th>CreditScore</th>\n",
       "      <th>Geography</th>\n",
       "      <th>Gender</th>\n",
       "      <th>Age</th>\n",
       "      <th>Tenure</th>\n",
       "      <th>Balance</th>\n",
       "      <th>NumOfProducts</th>\n",
       "      <th>HasCrCard</th>\n",
       "      <th>IsActiveMember</th>\n",
       "      <th>EstimatedSalary</th>\n",
       "      <th>Exited</th>\n",
       "    </tr>\n",
       "  </thead>\n",
       "  <tbody>\n",
       "    <tr>\n",
       "      <th>0</th>\n",
       "      <td>1</td>\n",
       "      <td>15634602</td>\n",
       "      <td>Hargrave</td>\n",
       "      <td>619</td>\n",
       "      <td>France</td>\n",
       "      <td>Female</td>\n",
       "      <td>42</td>\n",
       "      <td>2</td>\n",
       "      <td>0.00</td>\n",
       "      <td>1</td>\n",
       "      <td>1</td>\n",
       "      <td>1</td>\n",
       "      <td>101348.88</td>\n",
       "      <td>1</td>\n",
       "    </tr>\n",
       "    <tr>\n",
       "      <th>1</th>\n",
       "      <td>2</td>\n",
       "      <td>15647311</td>\n",
       "      <td>Hill</td>\n",
       "      <td>608</td>\n",
       "      <td>Spain</td>\n",
       "      <td>Female</td>\n",
       "      <td>41</td>\n",
       "      <td>1</td>\n",
       "      <td>83807.86</td>\n",
       "      <td>1</td>\n",
       "      <td>0</td>\n",
       "      <td>1</td>\n",
       "      <td>112542.58</td>\n",
       "      <td>0</td>\n",
       "    </tr>\n",
       "    <tr>\n",
       "      <th>2</th>\n",
       "      <td>3</td>\n",
       "      <td>15619304</td>\n",
       "      <td>Onio</td>\n",
       "      <td>502</td>\n",
       "      <td>France</td>\n",
       "      <td>Female</td>\n",
       "      <td>42</td>\n",
       "      <td>8</td>\n",
       "      <td>159660.80</td>\n",
       "      <td>3</td>\n",
       "      <td>1</td>\n",
       "      <td>0</td>\n",
       "      <td>113931.57</td>\n",
       "      <td>1</td>\n",
       "    </tr>\n",
       "    <tr>\n",
       "      <th>3</th>\n",
       "      <td>4</td>\n",
       "      <td>15701354</td>\n",
       "      <td>Boni</td>\n",
       "      <td>699</td>\n",
       "      <td>France</td>\n",
       "      <td>Female</td>\n",
       "      <td>39</td>\n",
       "      <td>1</td>\n",
       "      <td>0.00</td>\n",
       "      <td>2</td>\n",
       "      <td>0</td>\n",
       "      <td>0</td>\n",
       "      <td>93826.63</td>\n",
       "      <td>0</td>\n",
       "    </tr>\n",
       "    <tr>\n",
       "      <th>4</th>\n",
       "      <td>5</td>\n",
       "      <td>15737888</td>\n",
       "      <td>Mitchell</td>\n",
       "      <td>850</td>\n",
       "      <td>Spain</td>\n",
       "      <td>Female</td>\n",
       "      <td>43</td>\n",
       "      <td>2</td>\n",
       "      <td>125510.82</td>\n",
       "      <td>1</td>\n",
       "      <td>1</td>\n",
       "      <td>1</td>\n",
       "      <td>79084.10</td>\n",
       "      <td>0</td>\n",
       "    </tr>\n",
       "    <tr>\n",
       "      <th>...</th>\n",
       "      <td>...</td>\n",
       "      <td>...</td>\n",
       "      <td>...</td>\n",
       "      <td>...</td>\n",
       "      <td>...</td>\n",
       "      <td>...</td>\n",
       "      <td>...</td>\n",
       "      <td>...</td>\n",
       "      <td>...</td>\n",
       "      <td>...</td>\n",
       "      <td>...</td>\n",
       "      <td>...</td>\n",
       "      <td>...</td>\n",
       "      <td>...</td>\n",
       "    </tr>\n",
       "    <tr>\n",
       "      <th>9995</th>\n",
       "      <td>9996</td>\n",
       "      <td>15606229</td>\n",
       "      <td>Obijiaku</td>\n",
       "      <td>771</td>\n",
       "      <td>France</td>\n",
       "      <td>Male</td>\n",
       "      <td>39</td>\n",
       "      <td>5</td>\n",
       "      <td>0.00</td>\n",
       "      <td>2</td>\n",
       "      <td>1</td>\n",
       "      <td>0</td>\n",
       "      <td>96270.64</td>\n",
       "      <td>0</td>\n",
       "    </tr>\n",
       "    <tr>\n",
       "      <th>9996</th>\n",
       "      <td>9997</td>\n",
       "      <td>15569892</td>\n",
       "      <td>Johnstone</td>\n",
       "      <td>516</td>\n",
       "      <td>France</td>\n",
       "      <td>Male</td>\n",
       "      <td>35</td>\n",
       "      <td>10</td>\n",
       "      <td>57369.61</td>\n",
       "      <td>1</td>\n",
       "      <td>1</td>\n",
       "      <td>1</td>\n",
       "      <td>101699.77</td>\n",
       "      <td>0</td>\n",
       "    </tr>\n",
       "    <tr>\n",
       "      <th>9997</th>\n",
       "      <td>9998</td>\n",
       "      <td>15584532</td>\n",
       "      <td>Liu</td>\n",
       "      <td>709</td>\n",
       "      <td>France</td>\n",
       "      <td>Female</td>\n",
       "      <td>36</td>\n",
       "      <td>7</td>\n",
       "      <td>0.00</td>\n",
       "      <td>1</td>\n",
       "      <td>0</td>\n",
       "      <td>1</td>\n",
       "      <td>42085.58</td>\n",
       "      <td>1</td>\n",
       "    </tr>\n",
       "    <tr>\n",
       "      <th>9998</th>\n",
       "      <td>9999</td>\n",
       "      <td>15682355</td>\n",
       "      <td>Sabbatini</td>\n",
       "      <td>772</td>\n",
       "      <td>Germany</td>\n",
       "      <td>Male</td>\n",
       "      <td>42</td>\n",
       "      <td>3</td>\n",
       "      <td>75075.31</td>\n",
       "      <td>2</td>\n",
       "      <td>1</td>\n",
       "      <td>0</td>\n",
       "      <td>92888.52</td>\n",
       "      <td>1</td>\n",
       "    </tr>\n",
       "    <tr>\n",
       "      <th>9999</th>\n",
       "      <td>10000</td>\n",
       "      <td>15628319</td>\n",
       "      <td>Walker</td>\n",
       "      <td>792</td>\n",
       "      <td>France</td>\n",
       "      <td>Female</td>\n",
       "      <td>28</td>\n",
       "      <td>4</td>\n",
       "      <td>130142.79</td>\n",
       "      <td>1</td>\n",
       "      <td>1</td>\n",
       "      <td>0</td>\n",
       "      <td>38190.78</td>\n",
       "      <td>0</td>\n",
       "    </tr>\n",
       "  </tbody>\n",
       "</table>\n",
       "<p>10000 rows × 14 columns</p>\n",
       "</div>"
      ],
      "text/plain": [
       "      RowNumber  CustomerId    Surname  ...  IsActiveMember EstimatedSalary Exited\n",
       "0             1    15634602   Hargrave  ...               1       101348.88      1\n",
       "1             2    15647311       Hill  ...               1       112542.58      0\n",
       "2             3    15619304       Onio  ...               0       113931.57      1\n",
       "3             4    15701354       Boni  ...               0        93826.63      0\n",
       "4             5    15737888   Mitchell  ...               1        79084.10      0\n",
       "...         ...         ...        ...  ...             ...             ...    ...\n",
       "9995       9996    15606229   Obijiaku  ...               0        96270.64      0\n",
       "9996       9997    15569892  Johnstone  ...               1       101699.77      0\n",
       "9997       9998    15584532        Liu  ...               1        42085.58      1\n",
       "9998       9999    15682355  Sabbatini  ...               0        92888.52      1\n",
       "9999      10000    15628319     Walker  ...               0        38190.78      0\n",
       "\n",
       "[10000 rows x 14 columns]"
      ]
     },
     "execution_count": 42,
     "metadata": {
      "tags": []
     },
     "output_type": "execute_result"
    }
   ],
   "source": [
    "data_bank=pd.read_csv('/content/drive/MyDrive/Datasets/Churn.csv')\n",
    "data_bank"
   ]
  },
  {
   "cell_type": "code",
   "execution_count": 43,
   "metadata": {
    "colab": {
     "base_uri": "https://localhost:8080/",
     "height": 386
    },
    "id": "qaf4aZXMvS5A",
    "outputId": "1edce6d6-73f7-4665-aa79-86695536de4e"
   },
   "outputs": [
    {
     "data": {
      "text/html": [
       "<div>\n",
       "<style scoped>\n",
       "    .dataframe tbody tr th:only-of-type {\n",
       "        vertical-align: middle;\n",
       "    }\n",
       "\n",
       "    .dataframe tbody tr th {\n",
       "        vertical-align: top;\n",
       "    }\n",
       "\n",
       "    .dataframe thead th {\n",
       "        text-align: right;\n",
       "    }\n",
       "</style>\n",
       "<table border=\"1\" class=\"dataframe\">\n",
       "  <thead>\n",
       "    <tr style=\"text-align: right;\">\n",
       "      <th></th>\n",
       "      <th>count</th>\n",
       "      <th>mean</th>\n",
       "      <th>std</th>\n",
       "      <th>min</th>\n",
       "      <th>25%</th>\n",
       "      <th>50%</th>\n",
       "      <th>75%</th>\n",
       "      <th>max</th>\n",
       "    </tr>\n",
       "  </thead>\n",
       "  <tbody>\n",
       "    <tr>\n",
       "      <th>RowNumber</th>\n",
       "      <td>10000.0</td>\n",
       "      <td>5.000500e+03</td>\n",
       "      <td>2886.895680</td>\n",
       "      <td>1.00</td>\n",
       "      <td>2500.75</td>\n",
       "      <td>5.000500e+03</td>\n",
       "      <td>7.500250e+03</td>\n",
       "      <td>10000.00</td>\n",
       "    </tr>\n",
       "    <tr>\n",
       "      <th>CustomerId</th>\n",
       "      <td>10000.0</td>\n",
       "      <td>1.569094e+07</td>\n",
       "      <td>71936.186123</td>\n",
       "      <td>15565701.00</td>\n",
       "      <td>15628528.25</td>\n",
       "      <td>1.569074e+07</td>\n",
       "      <td>1.575323e+07</td>\n",
       "      <td>15815690.00</td>\n",
       "    </tr>\n",
       "    <tr>\n",
       "      <th>CreditScore</th>\n",
       "      <td>10000.0</td>\n",
       "      <td>6.505288e+02</td>\n",
       "      <td>96.653299</td>\n",
       "      <td>350.00</td>\n",
       "      <td>584.00</td>\n",
       "      <td>6.520000e+02</td>\n",
       "      <td>7.180000e+02</td>\n",
       "      <td>850.00</td>\n",
       "    </tr>\n",
       "    <tr>\n",
       "      <th>Age</th>\n",
       "      <td>10000.0</td>\n",
       "      <td>3.892180e+01</td>\n",
       "      <td>10.487806</td>\n",
       "      <td>18.00</td>\n",
       "      <td>32.00</td>\n",
       "      <td>3.700000e+01</td>\n",
       "      <td>4.400000e+01</td>\n",
       "      <td>92.00</td>\n",
       "    </tr>\n",
       "    <tr>\n",
       "      <th>Tenure</th>\n",
       "      <td>10000.0</td>\n",
       "      <td>5.012800e+00</td>\n",
       "      <td>2.892174</td>\n",
       "      <td>0.00</td>\n",
       "      <td>3.00</td>\n",
       "      <td>5.000000e+00</td>\n",
       "      <td>7.000000e+00</td>\n",
       "      <td>10.00</td>\n",
       "    </tr>\n",
       "    <tr>\n",
       "      <th>Balance</th>\n",
       "      <td>10000.0</td>\n",
       "      <td>7.648589e+04</td>\n",
       "      <td>62397.405202</td>\n",
       "      <td>0.00</td>\n",
       "      <td>0.00</td>\n",
       "      <td>9.719854e+04</td>\n",
       "      <td>1.276442e+05</td>\n",
       "      <td>250898.09</td>\n",
       "    </tr>\n",
       "    <tr>\n",
       "      <th>NumOfProducts</th>\n",
       "      <td>10000.0</td>\n",
       "      <td>1.530200e+00</td>\n",
       "      <td>0.581654</td>\n",
       "      <td>1.00</td>\n",
       "      <td>1.00</td>\n",
       "      <td>1.000000e+00</td>\n",
       "      <td>2.000000e+00</td>\n",
       "      <td>4.00</td>\n",
       "    </tr>\n",
       "    <tr>\n",
       "      <th>HasCrCard</th>\n",
       "      <td>10000.0</td>\n",
       "      <td>7.055000e-01</td>\n",
       "      <td>0.455840</td>\n",
       "      <td>0.00</td>\n",
       "      <td>0.00</td>\n",
       "      <td>1.000000e+00</td>\n",
       "      <td>1.000000e+00</td>\n",
       "      <td>1.00</td>\n",
       "    </tr>\n",
       "    <tr>\n",
       "      <th>IsActiveMember</th>\n",
       "      <td>10000.0</td>\n",
       "      <td>5.151000e-01</td>\n",
       "      <td>0.499797</td>\n",
       "      <td>0.00</td>\n",
       "      <td>0.00</td>\n",
       "      <td>1.000000e+00</td>\n",
       "      <td>1.000000e+00</td>\n",
       "      <td>1.00</td>\n",
       "    </tr>\n",
       "    <tr>\n",
       "      <th>EstimatedSalary</th>\n",
       "      <td>10000.0</td>\n",
       "      <td>1.000902e+05</td>\n",
       "      <td>57510.492818</td>\n",
       "      <td>11.58</td>\n",
       "      <td>51002.11</td>\n",
       "      <td>1.001939e+05</td>\n",
       "      <td>1.493882e+05</td>\n",
       "      <td>199992.48</td>\n",
       "    </tr>\n",
       "    <tr>\n",
       "      <th>Exited</th>\n",
       "      <td>10000.0</td>\n",
       "      <td>2.037000e-01</td>\n",
       "      <td>0.402769</td>\n",
       "      <td>0.00</td>\n",
       "      <td>0.00</td>\n",
       "      <td>0.000000e+00</td>\n",
       "      <td>0.000000e+00</td>\n",
       "      <td>1.00</td>\n",
       "    </tr>\n",
       "  </tbody>\n",
       "</table>\n",
       "</div>"
      ],
      "text/plain": [
       "                   count          mean  ...           75%          max\n",
       "RowNumber        10000.0  5.000500e+03  ...  7.500250e+03     10000.00\n",
       "CustomerId       10000.0  1.569094e+07  ...  1.575323e+07  15815690.00\n",
       "CreditScore      10000.0  6.505288e+02  ...  7.180000e+02       850.00\n",
       "Age              10000.0  3.892180e+01  ...  4.400000e+01        92.00\n",
       "Tenure           10000.0  5.012800e+00  ...  7.000000e+00        10.00\n",
       "Balance          10000.0  7.648589e+04  ...  1.276442e+05    250898.09\n",
       "NumOfProducts    10000.0  1.530200e+00  ...  2.000000e+00         4.00\n",
       "HasCrCard        10000.0  7.055000e-01  ...  1.000000e+00         1.00\n",
       "IsActiveMember   10000.0  5.151000e-01  ...  1.000000e+00         1.00\n",
       "EstimatedSalary  10000.0  1.000902e+05  ...  1.493882e+05    199992.48\n",
       "Exited           10000.0  2.037000e-01  ...  0.000000e+00         1.00\n",
       "\n",
       "[11 rows x 8 columns]"
      ]
     },
     "execution_count": 43,
     "metadata": {
      "tags": []
     },
     "output_type": "execute_result"
    }
   ],
   "source": [
    "data_bank.describe().T"
   ]
  },
  {
   "cell_type": "code",
   "execution_count": 44,
   "metadata": {
    "colab": {
     "base_uri": "https://localhost:8080/"
    },
    "id": "SzE0eHgXvoXe",
    "outputId": "4c822f4a-7ab6-4ac0-a4fc-9de3a21967e6"
   },
   "outputs": [
    {
     "name": "stdout",
     "output_type": "stream",
     "text": [
      "<class 'pandas.core.frame.DataFrame'>\n",
      "RangeIndex: 10000 entries, 0 to 9999\n",
      "Data columns (total 14 columns):\n",
      " #   Column           Non-Null Count  Dtype  \n",
      "---  ------           --------------  -----  \n",
      " 0   RowNumber        10000 non-null  int64  \n",
      " 1   CustomerId       10000 non-null  int64  \n",
      " 2   Surname          10000 non-null  object \n",
      " 3   CreditScore      10000 non-null  int64  \n",
      " 4   Geography        10000 non-null  object \n",
      " 5   Gender           10000 non-null  object \n",
      " 6   Age              10000 non-null  int64  \n",
      " 7   Tenure           10000 non-null  int64  \n",
      " 8   Balance          10000 non-null  float64\n",
      " 9   NumOfProducts    10000 non-null  int64  \n",
      " 10  HasCrCard        10000 non-null  int64  \n",
      " 11  IsActiveMember   10000 non-null  int64  \n",
      " 12  EstimatedSalary  10000 non-null  float64\n",
      " 13  Exited           10000 non-null  int64  \n",
      "dtypes: float64(2), int64(9), object(3)\n",
      "memory usage: 1.1+ MB\n"
     ]
    }
   ],
   "source": [
    "data_bank.info()"
   ]
  },
  {
   "cell_type": "code",
   "execution_count": 45,
   "metadata": {
    "colab": {
     "base_uri": "https://localhost:8080/"
    },
    "id": "lWQ0SEjtvsSd",
    "outputId": "a63c1d36-67fb-4186-b22f-14229a8d1c3e"
   },
   "outputs": [
    {
     "data": {
      "text/plain": [
       "RowNumber          0\n",
       "CustomerId         0\n",
       "Surname            0\n",
       "CreditScore        0\n",
       "Geography          0\n",
       "Gender             0\n",
       "Age                0\n",
       "Tenure             0\n",
       "Balance            0\n",
       "NumOfProducts      0\n",
       "HasCrCard          0\n",
       "IsActiveMember     0\n",
       "EstimatedSalary    0\n",
       "Exited             0\n",
       "dtype: int64"
      ]
     },
     "execution_count": 45,
     "metadata": {
      "tags": []
     },
     "output_type": "execute_result"
    }
   ],
   "source": [
    "data_bank.isna().sum()"
   ]
  },
  {
   "cell_type": "code",
   "execution_count": 46,
   "metadata": {
    "colab": {
     "base_uri": "https://localhost:8080/",
     "height": 725
    },
    "id": "WVU7NCpZwG1c",
    "outputId": "4415d062-93c1-410e-9d12-5616b706a59b"
   },
   "outputs": [
    {
     "data": {
      "text/plain": [
       "<matplotlib.axes._subplots.AxesSubplot at 0x7fd9abef2ef0>"
      ]
     },
     "execution_count": 46,
     "metadata": {
      "tags": []
     },
     "output_type": "execute_result"
    },
    {
     "data": {
      "image/png": "[encoded data removed]",
      "text/plain": [
       "<Figure size 1224x720 with 2 Axes>"
      ]
     },
     "metadata": {
      "needs_background": "light",
      "tags": []
     },
     "output_type": "display_data"
    }
   ],
   "source": [
    "# CORRELATION - HEAT MAP\n",
    "colormap = plt.cm.plasma\n",
    "plt.figure(figsize=(17,10))\n",
    "plt.title('Correlation of Cutomer Exiting Bank', y=1.05, size=15)\n",
    "sns.heatmap(data_bank.corr(),linewidths=0.1,vmax=1.0, square=True, cmap=colormap, \n",
    "            linecolor='white', annot=True)"
   ]
  },
  {
   "cell_type": "code",
   "execution_count": 47,
   "metadata": {
    "colab": {
     "base_uri": "https://localhost:8080/",
     "height": 296
    },
    "id": "mMkPkwStwMEr",
    "outputId": "01f27e2e-c11d-49a2-dc06-a08c9fc17081"
   },
   "outputs": [
    {
     "data": {
      "text/plain": [
       "<matplotlib.axes._subplots.AxesSubplot at 0x7fd9b62b6fd0>"
      ]
     },
     "execution_count": 47,
     "metadata": {
      "tags": []
     },
     "output_type": "execute_result"
    },
    {
     "data": {
      "image/png": "[encoded data removed]",
      "text/plain": [
       "<Figure size 432x288 with 1 Axes>"
      ]
     },
     "metadata": {
      "needs_background": "light",
      "tags": []
     },
     "output_type": "display_data"
    }
   ],
   "source": [
    "sns.countplot(x=\"Geography\", data=data_bank,hue=\"Exited\")"
   ]
  },
  {
   "cell_type": "code",
   "execution_count": 48,
   "metadata": {
    "colab": {
     "base_uri": "https://localhost:8080/",
     "height": 242
    },
    "id": "bFNCdcQFwPcR",
    "outputId": "df3cd743-a9a9-43e4-8b21-d1466d64fa8d"
   },
   "outputs": [
    {
     "data": {
      "text/plain": [
       "<seaborn.axisgrid.FacetGrid at 0x7fd9b62b6c18>"
      ]
     },
     "execution_count": 48,
     "metadata": {
      "tags": []
     },
     "output_type": "execute_result"
    },
    {
     "data": {
      "image/png": "[encoded data removed]",
      "text/plain": [
       "<Figure size 258.375x216 with 1 Axes>"
      ]
     },
     "metadata": {
      "needs_background": "light",
      "tags": []
     },
     "output_type": "display_data"
    }
   ],
   "source": [
    "gendermap = sns.FacetGrid(data_bank,hue = 'Exited')\n",
    "(gendermap.map(plt.hist,'Age',edgecolor=\"w\").add_legend())"
   ]
  },
  {
   "cell_type": "markdown",
   "metadata": {
    "id": "EdQhOYvRwUL8"
   },
   "source": [
    "# 2. Drop the columns which are unique for all users like IDs (2.5 points)"
   ]
  },
  {
   "cell_type": "code",
   "execution_count": 49,
   "metadata": {
    "id": "aT4k4jeqgL0G"
   },
   "outputs": [],
   "source": [
    "bank_data_new = data_bank.drop(['RowNumber', 'CustomerId', 'Surname'], axis =1)"
   ]
  },
  {
   "cell_type": "code",
   "execution_count": 50,
   "metadata": {
    "colab": {
     "base_uri": "https://localhost:8080/"
    },
    "id": "ercjAMccfYrM",
    "outputId": "7eea79f7-d10b-4877-d696-9709342546c7"
   },
   "outputs": [
    {
     "name": "stdout",
     "output_type": "stream",
     "text": [
      "<class 'pandas.core.frame.DataFrame'>\n",
      "RangeIndex: 10000 entries, 0 to 9999\n",
      "Data columns (total 11 columns):\n",
      " #   Column           Non-Null Count  Dtype  \n",
      "---  ------           --------------  -----  \n",
      " 0   CreditScore      10000 non-null  int64  \n",
      " 1   Geography        10000 non-null  int64  \n",
      " 2   Gender           10000 non-null  int64  \n",
      " 3   Age              10000 non-null  int64  \n",
      " 4   Tenure           10000 non-null  int64  \n",
      " 5   Balance          10000 non-null  float64\n",
      " 6   NumOfProducts    10000 non-null  int64  \n",
      " 7   HasCrCard        10000 non-null  int64  \n",
      " 8   IsActiveMember   10000 non-null  int64  \n",
      " 9   EstimatedSalary  10000 non-null  float64\n",
      " 10  Exited           10000 non-null  int64  \n",
      "dtypes: float64(2), int64(9)\n",
      "memory usage: 859.5 KB\n",
      "None\n"
     ]
    }
   ],
   "source": [
    "## Label Encoding of all the columns\n",
    "# instantiate labelencoder object\n",
    "le = LabelEncoder()\n",
    "\n",
    "# Categorical boolean mask\n",
    "categorical_feature_mask = bank_data_new.dtypes==object\n",
    "# filter categorical columns using mask and turn it into a list\n",
    "categorical_cols = bank_data_new.columns[categorical_feature_mask].tolist()\n",
    "bank_data_new[categorical_cols] = bank_data_new[categorical_cols].apply(lambda col: le.fit_transform(col))\n",
    "print(bank_data_new.info())"
   ]
  },
  {
   "cell_type": "code",
   "execution_count": 52,
   "metadata": {
    "colab": {
     "base_uri": "https://localhost:8080/"
    },
    "id": "kB9q1zv6gGe6",
    "outputId": "ccb39ec1-d14b-4c9e-9978-7353b7792a43"
   },
   "outputs": [
    {
     "name": "stdout",
     "output_type": "stream",
     "text": [
      "[1 0 1 ... 1 1 0]\n",
      "[[-0.90188624 -1.09598752  0.29351742 ...  0.64609167  0.97024255\n",
      "   0.02188649]\n",
      " [ 1.51506738 -1.09598752  0.19816383 ... -1.54776799  0.97024255\n",
      "   0.21653375]\n",
      " [-0.90188624 -1.09598752  0.29351742 ...  0.64609167 -1.03067011\n",
      "   0.2406869 ]\n",
      " ...\n",
      " [-0.90188624 -1.09598752 -0.27860412 ... -1.54776799  0.97024255\n",
      "  -1.00864308]\n",
      " [ 0.30659057  0.91241915  0.29351742 ...  0.64609167 -1.03067011\n",
      "  -0.12523071]\n",
      " [-0.90188624 -1.09598752 -1.04143285 ...  0.64609167 -1.03067011\n",
      "  -1.07636976]]\n"
     ]
    }
   ],
   "source": [
    "df_scaled = bank_data_new.apply(zscore)\n",
    "X_columns =  df_scaled.columns.tolist()[1:10]\n",
    "Y_Columns = bank_data_new.columns.tolist()[-1:]\n",
    "\n",
    "X = df_scaled[X_columns].values\n",
    "y = np.array(bank_data_new['Exited']) # Exited\n",
    "\n",
    "print(y)\n",
    "print(X)"
   ]
  },
  {
   "cell_type": "markdown",
   "metadata": {
    "id": "D-3XIntSwrDO"
   },
   "source": [
    "# 4. Divide the data set into training and test sets ( 2.5 points)"
   ]
  },
  {
   "cell_type": "code",
   "execution_count": 53,
   "metadata": {
    "id": "0oATXLmmgcWL"
   },
   "outputs": [],
   "source": [
    "#splitting the dataset into training and test set\n",
    "X_train, X_test, y_train, y_test = train_test_split(X,y, test_size=0.2, random_state= 8)"
   ]
  },
  {
   "cell_type": "code",
   "execution_count": 54,
   "metadata": {
    "colab": {
     "base_uri": "https://localhost:8080/"
    },
    "id": "i_wIGFpWge7M",
    "outputId": "b2d398e3-ee4c-4fdf-fefd-9def760082e2"
   },
   "outputs": [
    {
     "data": {
      "text/plain": [
       "(8000, 9)"
      ]
     },
     "execution_count": 54,
     "metadata": {
      "tags": []
     },
     "output_type": "execute_result"
    }
   ],
   "source": [
    "X_train.shape"
   ]
  },
  {
   "cell_type": "code",
   "execution_count": 55,
   "metadata": {
    "id": "t0EhgMdyggk-"
   },
   "outputs": [],
   "source": [
    "#Encoding the output class label (One-Hot Encoding)\n",
    "y_train=to_categorical(y_train,2)\n",
    "y_test=to_categorical(y_test,2)"
   ]
  },
  {
   "cell_type": "markdown",
   "metadata": {
    "id": "Ay6JMjI9wubK"
   },
   "source": [
    "# 5. Normalize the train and test data (5 points)"
   ]
  },
  {
   "cell_type": "code",
   "execution_count": 56,
   "metadata": {
    "colab": {
     "base_uri": "https://localhost:8080/"
    },
    "id": "HQOT0njjgimy",
    "outputId": "34827f1f-9e58-4dde-adbf-fb9cdec5393e"
   },
   "outputs": [
    {
     "name": "stdout",
     "output_type": "stream",
     "text": [
      "[[-0.32660661  0.33042097  0.41707339 ...  0.23397387  0.35136098\n",
      "   0.45409568]\n",
      " [ 0.41088162 -0.29722845 -0.04969698 ... -0.41974993  0.2631268\n",
      "  -0.26355289]\n",
      " [-0.26269006 -0.31922543 -0.30333543 ... -0.45081435  0.28260002\n",
      "  -0.48071808]\n",
      " ...\n",
      " [ 0.52973741  0.31902381  0.06928721 ...  0.22590344 -0.3603698\n",
      "   0.19493733]\n",
      " [ 0.11730923  0.34911441 -0.17957026 ... -0.59221479 -0.39436019\n",
      "  -0.28109801]\n",
      " [ 0.09429018  0.28060932 -0.05635766 ... -0.47600724  0.29839258\n",
      "   0.53266892]]\n"
     ]
    }
   ],
   "source": [
    "from sklearn.preprocessing import Normalizer\n",
    "normalize=Normalizer(norm=\"l2\")\n",
    "X_train=normalize.transform(X_train)\n",
    "\n",
    "print(X_train)"
   ]
  },
  {
   "cell_type": "code",
   "execution_count": 57,
   "metadata": {
    "colab": {
     "base_uri": "https://localhost:8080/"
    },
    "id": "bYNP-H29gkLf",
    "outputId": "e198fa61-f0ba-40b1-dae9-62e1ddd2317c"
   },
   "outputs": [
    {
     "name": "stdout",
     "output_type": "stream",
     "text": [
      "[[ 0.11961429 -0.42759232  0.63533595 ...  0.25206841  0.37853375\n",
      "  -0.13253872]\n",
      " [ 0.10480879 -0.3746662   0.58929281 ...  0.22086812  0.33167995\n",
      "   0.1222605 ]\n",
      " [ 0.50531507 -0.36554085 -0.15652774 ...  0.21548867 -0.34375576\n",
      "   0.41137911]\n",
      " ...\n",
      " [ 0.11278809  0.33565943 -0.2077281  ...  0.23768326 -0.37916142\n",
      "   0.59518817]\n",
      " [-0.3643766   0.36863206  0.08006139 ...  0.26103146 -0.41640736\n",
      "   0.22923692]\n",
      " [-0.30802696  0.31162433 -0.09515344 ...  0.22066381 -0.35201134\n",
      "   0.35994045]]\n"
     ]
    }
   ],
   "source": [
    "X_test=normalize.transform(X_test)\n",
    "print(X_test)"
   ]
  },
  {
   "cell_type": "markdown",
   "metadata": {
    "id": "eFRsMDVvw1it"
   },
   "source": [
    "# 6. Initialize & build the model."
   ]
  },
  {
   "cell_type": "code",
   "execution_count": 58,
   "metadata": {
    "colab": {
     "base_uri": "https://localhost:8080/"
    },
    "id": "cc8l6d9ngmFl",
    "outputId": "81cddca0-f8d1-4171-bbcb-9c6b60e364d8"
   },
   "outputs": [
    {
     "name": "stdout",
     "output_type": "stream",
     "text": [
      "Model: \"sequential_2\"\n",
      "_________________________________________________________________\n",
      "Layer (type)                 Output Shape              Param #   \n",
      "=================================================================\n",
      "dense_7 (Dense)              (None, 6)                 60        \n",
      "_________________________________________________________________\n",
      "dense_8 (Dense)              (None, 20)                140       \n",
      "_________________________________________________________________\n",
      "dense_9 (Dense)              (None, 10)                210       \n",
      "_________________________________________________________________\n",
      "dense_10 (Dense)             (None, 2)                 22        \n",
      "=================================================================\n",
      "Total params: 432\n",
      "Trainable params: 432\n",
      "Non-trainable params: 0\n",
      "_________________________________________________________________\n"
     ]
    }
   ],
   "source": [
    "#build mode;\n",
    "#Initialize Sequential Graph (model)\n",
    "model = tf.keras.Sequential()\n",
    "model.add(Dense(units=6, activation='relu', input_shape=(9,)))\n",
    "model.add(Dense(20, activation='relu'))\n",
    "model.add(Dense(10, activation='softmax'))\n",
    "model.add(Dense(2, activation='softmax'))\n",
    "model.compile(optimizer='adam', loss='binary_crossentropy',metrics=['accuracy'])\n",
    "model.summary()"
   ]
  },
  {
   "cell_type": "code",
   "execution_count": 59,
   "metadata": {
    "colab": {
     "base_uri": "https://localhost:8080/"
    },
    "id": "LKBAZei2gqTi",
    "outputId": "c8e7d2bf-9b8d-4b01-c218-376e888db687"
   },
   "outputs": [
    {
     "name": "stdout",
     "output_type": "stream",
     "text": [
      "Epoch 1/200\n",
      "178/178 [==============================] - 1s 2ms/step - loss: 0.6846 - accuracy: 0.5005 - val_loss: 0.5641 - val_accuracy: 0.7935\n",
      "Epoch 2/200\n",
      "178/178 [==============================] - 0s 2ms/step - loss: 0.5482 - accuracy: 0.7975 - val_loss: 0.5240 - val_accuracy: 0.7935\n",
      "Epoch 3/200\n",
      "178/178 [==============================] - 0s 2ms/step - loss: 0.5135 - accuracy: 0.7999 - val_loss: 0.5000 - val_accuracy: 0.7935\n",
      "Epoch 4/200\n",
      "178/178 [==============================] - 0s 2ms/step - loss: 0.4956 - accuracy: 0.7958 - val_loss: 0.4787 - val_accuracy: 0.7935\n",
      "Epoch 5/200\n",
      "178/178 [==============================] - 0s 2ms/step - loss: 0.4671 - accuracy: 0.8061 - val_loss: 0.4625 - val_accuracy: 0.7935\n",
      "Epoch 6/200\n",
      "178/178 [==============================] - 0s 2ms/step - loss: 0.4533 - accuracy: 0.8027 - val_loss: 0.4509 - val_accuracy: 0.7935\n",
      "Epoch 7/200\n",
      "178/178 [==============================] - 0s 2ms/step - loss: 0.4486 - accuracy: 0.8016 - val_loss: 0.4422 - val_accuracy: 0.7935\n",
      "Epoch 8/200\n",
      "178/178 [==============================] - 0s 2ms/step - loss: 0.4415 - accuracy: 0.7990 - val_loss: 0.4351 - val_accuracy: 0.7935\n",
      "Epoch 9/200\n",
      "178/178 [==============================] - 0s 2ms/step - loss: 0.4407 - accuracy: 0.7925 - val_loss: 0.4290 - val_accuracy: 0.7935\n",
      "Epoch 10/200\n",
      "178/178 [==============================] - 0s 2ms/step - loss: 0.4301 - accuracy: 0.7981 - val_loss: 0.4244 - val_accuracy: 0.7935\n",
      "Epoch 11/200\n",
      "178/178 [==============================] - 0s 2ms/step - loss: 0.4262 - accuracy: 0.7964 - val_loss: 0.4192 - val_accuracy: 0.7935\n",
      "Epoch 12/200\n",
      "178/178 [==============================] - 0s 2ms/step - loss: 0.4286 - accuracy: 0.7949 - val_loss: 0.4133 - val_accuracy: 0.8330\n",
      "Epoch 13/200\n",
      "178/178 [==============================] - 0s 2ms/step - loss: 0.4201 - accuracy: 0.8214 - val_loss: 0.4046 - val_accuracy: 0.8340\n",
      "Epoch 14/200\n",
      "178/178 [==============================] - 0s 2ms/step - loss: 0.4172 - accuracy: 0.8301 - val_loss: 0.3960 - val_accuracy: 0.8410\n",
      "Epoch 15/200\n",
      "178/178 [==============================] - 0s 2ms/step - loss: 0.3966 - accuracy: 0.8407 - val_loss: 0.3884 - val_accuracy: 0.8500\n",
      "Epoch 16/200\n",
      "178/178 [==============================] - 0s 2ms/step - loss: 0.3949 - accuracy: 0.8427 - val_loss: 0.3826 - val_accuracy: 0.8525\n",
      "Epoch 17/200\n",
      "178/178 [==============================] - 0s 2ms/step - loss: 0.3837 - accuracy: 0.8482 - val_loss: 0.3767 - val_accuracy: 0.8570\n",
      "Epoch 18/200\n",
      "178/178 [==============================] - 0s 2ms/step - loss: 0.3871 - accuracy: 0.8428 - val_loss: 0.3717 - val_accuracy: 0.8615\n",
      "Epoch 19/200\n",
      "178/178 [==============================] - 0s 2ms/step - loss: 0.3709 - accuracy: 0.8507 - val_loss: 0.3677 - val_accuracy: 0.8635\n",
      "Epoch 20/200\n",
      "178/178 [==============================] - 0s 2ms/step - loss: 0.3772 - accuracy: 0.8474 - val_loss: 0.3654 - val_accuracy: 0.8625\n",
      "Epoch 21/200\n",
      "178/178 [==============================] - 0s 2ms/step - loss: 0.3733 - accuracy: 0.8470 - val_loss: 0.3628 - val_accuracy: 0.8595\n",
      "Epoch 22/200\n",
      "178/178 [==============================] - 0s 2ms/step - loss: 0.3574 - accuracy: 0.8634 - val_loss: 0.3616 - val_accuracy: 0.8610\n",
      "Epoch 23/200\n",
      "178/178 [==============================] - 0s 2ms/step - loss: 0.3585 - accuracy: 0.8603 - val_loss: 0.3605 - val_accuracy: 0.8595\n",
      "Epoch 24/200\n",
      "178/178 [==============================] - 0s 2ms/step - loss: 0.3459 - accuracy: 0.8631 - val_loss: 0.3596 - val_accuracy: 0.8590\n",
      "Epoch 25/200\n",
      "178/178 [==============================] - 0s 2ms/step - loss: 0.3573 - accuracy: 0.8560 - val_loss: 0.3585 - val_accuracy: 0.8620\n",
      "Epoch 26/200\n",
      "178/178 [==============================] - 0s 2ms/step - loss: 0.3701 - accuracy: 0.8523 - val_loss: 0.3614 - val_accuracy: 0.8535\n",
      "Epoch 27/200\n",
      "178/178 [==============================] - 0s 2ms/step - loss: 0.3602 - accuracy: 0.8582 - val_loss: 0.3583 - val_accuracy: 0.8580\n",
      "Epoch 28/200\n",
      "178/178 [==============================] - 0s 2ms/step - loss: 0.3573 - accuracy: 0.8583 - val_loss: 0.3575 - val_accuracy: 0.8605\n",
      "Epoch 29/200\n",
      "178/178 [==============================] - 0s 2ms/step - loss: 0.3524 - accuracy: 0.8634 - val_loss: 0.3566 - val_accuracy: 0.8600\n",
      "Epoch 30/200\n",
      "178/178 [==============================] - 0s 2ms/step - loss: 0.3404 - accuracy: 0.8695 - val_loss: 0.3570 - val_accuracy: 0.8570\n",
      "Epoch 31/200\n",
      "178/178 [==============================] - 0s 2ms/step - loss: 0.3652 - accuracy: 0.8519 - val_loss: 0.3559 - val_accuracy: 0.8595\n",
      "Epoch 32/200\n",
      "178/178 [==============================] - 0s 2ms/step - loss: 0.3590 - accuracy: 0.8589 - val_loss: 0.3564 - val_accuracy: 0.8610\n",
      "Epoch 33/200\n",
      "178/178 [==============================] - 0s 2ms/step - loss: 0.3702 - accuracy: 0.8482 - val_loss: 0.3550 - val_accuracy: 0.8590\n",
      "Epoch 34/200\n",
      "178/178 [==============================] - 0s 2ms/step - loss: 0.3454 - accuracy: 0.8657 - val_loss: 0.3558 - val_accuracy: 0.8560\n",
      "Epoch 35/200\n",
      "178/178 [==============================] - 0s 2ms/step - loss: 0.3598 - accuracy: 0.8573 - val_loss: 0.3561 - val_accuracy: 0.8545\n",
      "Epoch 36/200\n",
      "178/178 [==============================] - 0s 2ms/step - loss: 0.3514 - accuracy: 0.8565 - val_loss: 0.3545 - val_accuracy: 0.8575\n",
      "Epoch 37/200\n",
      "178/178 [==============================] - 0s 2ms/step - loss: 0.3547 - accuracy: 0.8597 - val_loss: 0.3565 - val_accuracy: 0.8570\n",
      "Epoch 38/200\n",
      "178/178 [==============================] - 0s 2ms/step - loss: 0.3585 - accuracy: 0.8591 - val_loss: 0.3547 - val_accuracy: 0.8580\n",
      "Epoch 39/200\n",
      "178/178 [==============================] - 0s 2ms/step - loss: 0.3540 - accuracy: 0.8550 - val_loss: 0.3542 - val_accuracy: 0.8550\n",
      "Epoch 40/200\n",
      "178/178 [==============================] - 0s 2ms/step - loss: 0.3607 - accuracy: 0.8543 - val_loss: 0.3544 - val_accuracy: 0.8610\n",
      "Epoch 41/200\n",
      "178/178 [==============================] - 0s 2ms/step - loss: 0.3501 - accuracy: 0.8578 - val_loss: 0.3532 - val_accuracy: 0.8595\n",
      "Epoch 42/200\n",
      "178/178 [==============================] - 0s 2ms/step - loss: 0.3539 - accuracy: 0.8557 - val_loss: 0.3529 - val_accuracy: 0.8595\n",
      "Epoch 43/200\n",
      "178/178 [==============================] - 0s 2ms/step - loss: 0.3460 - accuracy: 0.8649 - val_loss: 0.3528 - val_accuracy: 0.8600\n",
      "Epoch 44/200\n",
      "178/178 [==============================] - 0s 2ms/step - loss: 0.3585 - accuracy: 0.8585 - val_loss: 0.3528 - val_accuracy: 0.8590\n",
      "Epoch 45/200\n",
      "178/178 [==============================] - 0s 2ms/step - loss: 0.3592 - accuracy: 0.8570 - val_loss: 0.3524 - val_accuracy: 0.8600\n",
      "Epoch 46/200\n",
      "178/178 [==============================] - 0s 2ms/step - loss: 0.3469 - accuracy: 0.8598 - val_loss: 0.3534 - val_accuracy: 0.8590\n",
      "Epoch 47/200\n",
      "178/178 [==============================] - 0s 2ms/step - loss: 0.3517 - accuracy: 0.8548 - val_loss: 0.3542 - val_accuracy: 0.8580\n",
      "Epoch 48/200\n",
      "178/178 [==============================] - 0s 2ms/step - loss: 0.3561 - accuracy: 0.8586 - val_loss: 0.3526 - val_accuracy: 0.8585\n",
      "Epoch 49/200\n",
      "178/178 [==============================] - 0s 2ms/step - loss: 0.3415 - accuracy: 0.8612 - val_loss: 0.3531 - val_accuracy: 0.8575\n",
      "Epoch 50/200\n",
      "178/178 [==============================] - 0s 2ms/step - loss: 0.3486 - accuracy: 0.8562 - val_loss: 0.3544 - val_accuracy: 0.8620\n",
      "Epoch 51/200\n",
      "178/178 [==============================] - 0s 2ms/step - loss: 0.3372 - accuracy: 0.8682 - val_loss: 0.3520 - val_accuracy: 0.8570\n",
      "Epoch 52/200\n",
      "178/178 [==============================] - 0s 2ms/step - loss: 0.3417 - accuracy: 0.8644 - val_loss: 0.3509 - val_accuracy: 0.8610\n",
      "Epoch 53/200\n",
      "178/178 [==============================] - 0s 2ms/step - loss: 0.3486 - accuracy: 0.8589 - val_loss: 0.3506 - val_accuracy: 0.8570\n",
      "Epoch 54/200\n",
      "178/178 [==============================] - 0s 2ms/step - loss: 0.3505 - accuracy: 0.8565 - val_loss: 0.3502 - val_accuracy: 0.8580\n",
      "Epoch 55/200\n",
      "178/178 [==============================] - 0s 2ms/step - loss: 0.3536 - accuracy: 0.8579 - val_loss: 0.3517 - val_accuracy: 0.8575\n",
      "Epoch 56/200\n",
      "178/178 [==============================] - 0s 2ms/step - loss: 0.3484 - accuracy: 0.8558 - val_loss: 0.3500 - val_accuracy: 0.8590\n",
      "Epoch 57/200\n",
      "178/178 [==============================] - 0s 2ms/step - loss: 0.3358 - accuracy: 0.8618 - val_loss: 0.3499 - val_accuracy: 0.8590\n",
      "Epoch 58/200\n",
      "178/178 [==============================] - 0s 2ms/step - loss: 0.3526 - accuracy: 0.8580 - val_loss: 0.3514 - val_accuracy: 0.8620\n",
      "Epoch 59/200\n",
      "178/178 [==============================] - 0s 2ms/step - loss: 0.3484 - accuracy: 0.8621 - val_loss: 0.3500 - val_accuracy: 0.8580\n",
      "Epoch 60/200\n",
      "178/178 [==============================] - 0s 2ms/step - loss: 0.3520 - accuracy: 0.8541 - val_loss: 0.3504 - val_accuracy: 0.8570\n",
      "Epoch 61/200\n",
      "178/178 [==============================] - 0s 2ms/step - loss: 0.3521 - accuracy: 0.8570 - val_loss: 0.3501 - val_accuracy: 0.8570\n",
      "Epoch 62/200\n",
      "178/178 [==============================] - 0s 2ms/step - loss: 0.3438 - accuracy: 0.8612 - val_loss: 0.3489 - val_accuracy: 0.8580\n",
      "Epoch 63/200\n",
      "178/178 [==============================] - 0s 2ms/step - loss: 0.3380 - accuracy: 0.8679 - val_loss: 0.3493 - val_accuracy: 0.8585\n",
      "Epoch 64/200\n",
      "178/178 [==============================] - 0s 2ms/step - loss: 0.3471 - accuracy: 0.8608 - val_loss: 0.3500 - val_accuracy: 0.8580\n",
      "Epoch 65/200\n",
      "178/178 [==============================] - 0s 2ms/step - loss: 0.3347 - accuracy: 0.8656 - val_loss: 0.3493 - val_accuracy: 0.8600\n",
      "Epoch 66/200\n",
      "178/178 [==============================] - 0s 2ms/step - loss: 0.3503 - accuracy: 0.8583 - val_loss: 0.3485 - val_accuracy: 0.8575\n",
      "Epoch 67/200\n",
      "178/178 [==============================] - 0s 2ms/step - loss: 0.3459 - accuracy: 0.8544 - val_loss: 0.3496 - val_accuracy: 0.8585\n",
      "Epoch 68/200\n",
      "178/178 [==============================] - 0s 2ms/step - loss: 0.3433 - accuracy: 0.8638 - val_loss: 0.3487 - val_accuracy: 0.8575\n",
      "Epoch 69/200\n",
      "178/178 [==============================] - 0s 2ms/step - loss: 0.3438 - accuracy: 0.8617 - val_loss: 0.3483 - val_accuracy: 0.8600\n",
      "Epoch 70/200\n",
      "178/178 [==============================] - 0s 2ms/step - loss: 0.3298 - accuracy: 0.8653 - val_loss: 0.3493 - val_accuracy: 0.8590\n",
      "Epoch 71/200\n",
      "178/178 [==============================] - 0s 2ms/step - loss: 0.3516 - accuracy: 0.8566 - val_loss: 0.3486 - val_accuracy: 0.8600\n",
      "Epoch 72/200\n",
      "178/178 [==============================] - 0s 2ms/step - loss: 0.3373 - accuracy: 0.8666 - val_loss: 0.3483 - val_accuracy: 0.8615\n",
      "Epoch 73/200\n",
      "178/178 [==============================] - 0s 2ms/step - loss: 0.3476 - accuracy: 0.8579 - val_loss: 0.3482 - val_accuracy: 0.8615\n",
      "Epoch 74/200\n",
      "178/178 [==============================] - 0s 2ms/step - loss: 0.3460 - accuracy: 0.8582 - val_loss: 0.3477 - val_accuracy: 0.8605\n",
      "Epoch 75/200\n",
      "178/178 [==============================] - 0s 2ms/step - loss: 0.3526 - accuracy: 0.8541 - val_loss: 0.3473 - val_accuracy: 0.8585\n",
      "Epoch 76/200\n",
      "178/178 [==============================] - 0s 2ms/step - loss: 0.3535 - accuracy: 0.8553 - val_loss: 0.3470 - val_accuracy: 0.8605\n",
      "Epoch 77/200\n",
      "178/178 [==============================] - 0s 2ms/step - loss: 0.3422 - accuracy: 0.8612 - val_loss: 0.3471 - val_accuracy: 0.8595\n",
      "Epoch 78/200\n",
      "178/178 [==============================] - 0s 2ms/step - loss: 0.3484 - accuracy: 0.8572 - val_loss: 0.3477 - val_accuracy: 0.8600\n",
      "Epoch 79/200\n",
      "178/178 [==============================] - 0s 2ms/step - loss: 0.3349 - accuracy: 0.8643 - val_loss: 0.3469 - val_accuracy: 0.8610\n",
      "Epoch 80/200\n",
      "178/178 [==============================] - 0s 2ms/step - loss: 0.3384 - accuracy: 0.8638 - val_loss: 0.3465 - val_accuracy: 0.8610\n",
      "Epoch 81/200\n",
      "178/178 [==============================] - 0s 2ms/step - loss: 0.3549 - accuracy: 0.8555 - val_loss: 0.3455 - val_accuracy: 0.8600\n",
      "Epoch 82/200\n",
      "178/178 [==============================] - 0s 2ms/step - loss: 0.3449 - accuracy: 0.8600 - val_loss: 0.3455 - val_accuracy: 0.8620\n",
      "Epoch 83/200\n",
      "178/178 [==============================] - 0s 2ms/step - loss: 0.3319 - accuracy: 0.8676 - val_loss: 0.3471 - val_accuracy: 0.8610\n",
      "Epoch 84/200\n",
      "178/178 [==============================] - 0s 2ms/step - loss: 0.3432 - accuracy: 0.8585 - val_loss: 0.3457 - val_accuracy: 0.8600\n",
      "Epoch 85/200\n",
      "178/178 [==============================] - 0s 2ms/step - loss: 0.3454 - accuracy: 0.8621 - val_loss: 0.3460 - val_accuracy: 0.8610\n",
      "Epoch 86/200\n",
      "178/178 [==============================] - 0s 2ms/step - loss: 0.3449 - accuracy: 0.8589 - val_loss: 0.3471 - val_accuracy: 0.8590\n",
      "Epoch 87/200\n",
      "178/178 [==============================] - 0s 2ms/step - loss: 0.3349 - accuracy: 0.8637 - val_loss: 0.3453 - val_accuracy: 0.8625\n",
      "Epoch 88/200\n",
      "178/178 [==============================] - 0s 2ms/step - loss: 0.3459 - accuracy: 0.8557 - val_loss: 0.3445 - val_accuracy: 0.8610\n",
      "Epoch 89/200\n",
      "178/178 [==============================] - 0s 2ms/step - loss: 0.3388 - accuracy: 0.8650 - val_loss: 0.3456 - val_accuracy: 0.8615\n",
      "Epoch 90/200\n",
      "178/178 [==============================] - 0s 2ms/step - loss: 0.3317 - accuracy: 0.8677 - val_loss: 0.3454 - val_accuracy: 0.8615\n",
      "Epoch 91/200\n",
      "178/178 [==============================] - 0s 2ms/step - loss: 0.3427 - accuracy: 0.8614 - val_loss: 0.3441 - val_accuracy: 0.8630\n",
      "Epoch 92/200\n",
      "178/178 [==============================] - 0s 2ms/step - loss: 0.3395 - accuracy: 0.8597 - val_loss: 0.3448 - val_accuracy: 0.8620\n",
      "Epoch 93/200\n",
      "178/178 [==============================] - 0s 2ms/step - loss: 0.3388 - accuracy: 0.8611 - val_loss: 0.3445 - val_accuracy: 0.8625\n",
      "Epoch 94/200\n",
      "178/178 [==============================] - 0s 2ms/step - loss: 0.3372 - accuracy: 0.8569 - val_loss: 0.3441 - val_accuracy: 0.8585\n",
      "Epoch 95/200\n",
      "178/178 [==============================] - 0s 2ms/step - loss: 0.3353 - accuracy: 0.8641 - val_loss: 0.3448 - val_accuracy: 0.8630\n",
      "Epoch 96/200\n",
      "178/178 [==============================] - 0s 2ms/step - loss: 0.3275 - accuracy: 0.8699 - val_loss: 0.3438 - val_accuracy: 0.8610\n",
      "Epoch 97/200\n",
      "178/178 [==============================] - 0s 2ms/step - loss: 0.3429 - accuracy: 0.8625 - val_loss: 0.3433 - val_accuracy: 0.8615\n",
      "Epoch 98/200\n",
      "178/178 [==============================] - 0s 2ms/step - loss: 0.3238 - accuracy: 0.8675 - val_loss: 0.3447 - val_accuracy: 0.8575\n",
      "Epoch 99/200\n",
      "178/178 [==============================] - 0s 2ms/step - loss: 0.3408 - accuracy: 0.8602 - val_loss: 0.3436 - val_accuracy: 0.8585\n",
      "Epoch 100/200\n",
      "178/178 [==============================] - 0s 2ms/step - loss: 0.3457 - accuracy: 0.8598 - val_loss: 0.3428 - val_accuracy: 0.8610\n",
      "Epoch 101/200\n",
      "178/178 [==============================] - 0s 2ms/step - loss: 0.3310 - accuracy: 0.8659 - val_loss: 0.3429 - val_accuracy: 0.8595\n",
      "Epoch 102/200\n",
      "178/178 [==============================] - 0s 2ms/step - loss: 0.3429 - accuracy: 0.8582 - val_loss: 0.3428 - val_accuracy: 0.8590\n",
      "Epoch 103/200\n",
      "178/178 [==============================] - 0s 2ms/step - loss: 0.3347 - accuracy: 0.8629 - val_loss: 0.3464 - val_accuracy: 0.8560\n",
      "Epoch 104/200\n",
      "178/178 [==============================] - 0s 2ms/step - loss: 0.3353 - accuracy: 0.8594 - val_loss: 0.3434 - val_accuracy: 0.8590\n",
      "Epoch 105/200\n",
      "178/178 [==============================] - 0s 2ms/step - loss: 0.3370 - accuracy: 0.8662 - val_loss: 0.3422 - val_accuracy: 0.8605\n",
      "Epoch 106/200\n",
      "178/178 [==============================] - 0s 2ms/step - loss: 0.3415 - accuracy: 0.8611 - val_loss: 0.3428 - val_accuracy: 0.8585\n",
      "Epoch 107/200\n",
      "178/178 [==============================] - 0s 2ms/step - loss: 0.3261 - accuracy: 0.8672 - val_loss: 0.3434 - val_accuracy: 0.8590\n",
      "Epoch 108/200\n",
      "178/178 [==============================] - 0s 2ms/step - loss: 0.3354 - accuracy: 0.8615 - val_loss: 0.3428 - val_accuracy: 0.8610\n",
      "Epoch 109/200\n",
      "178/178 [==============================] - 0s 2ms/step - loss: 0.3325 - accuracy: 0.8632 - val_loss: 0.3412 - val_accuracy: 0.8605\n",
      "Epoch 110/200\n",
      "178/178 [==============================] - 0s 2ms/step - loss: 0.3404 - accuracy: 0.8632 - val_loss: 0.3419 - val_accuracy: 0.8635\n",
      "Epoch 111/200\n",
      "178/178 [==============================] - 0s 2ms/step - loss: 0.3381 - accuracy: 0.8602 - val_loss: 0.3452 - val_accuracy: 0.8570\n",
      "Epoch 112/200\n",
      "178/178 [==============================] - 0s 2ms/step - loss: 0.3367 - accuracy: 0.8644 - val_loss: 0.3430 - val_accuracy: 0.8600\n",
      "Epoch 113/200\n",
      "178/178 [==============================] - 0s 2ms/step - loss: 0.3295 - accuracy: 0.8625 - val_loss: 0.3416 - val_accuracy: 0.8605\n",
      "Epoch 114/200\n",
      "178/178 [==============================] - 0s 2ms/step - loss: 0.3298 - accuracy: 0.8629 - val_loss: 0.3418 - val_accuracy: 0.8615\n",
      "Epoch 115/200\n",
      "178/178 [==============================] - 0s 2ms/step - loss: 0.3401 - accuracy: 0.8606 - val_loss: 0.3410 - val_accuracy: 0.8630\n",
      "Epoch 116/200\n",
      "178/178 [==============================] - 0s 2ms/step - loss: 0.3403 - accuracy: 0.8615 - val_loss: 0.3411 - val_accuracy: 0.8610\n",
      "Epoch 117/200\n",
      "178/178 [==============================] - 0s 2ms/step - loss: 0.3277 - accuracy: 0.8680 - val_loss: 0.3435 - val_accuracy: 0.8590\n",
      "Epoch 118/200\n",
      "178/178 [==============================] - 0s 2ms/step - loss: 0.3334 - accuracy: 0.8630 - val_loss: 0.3408 - val_accuracy: 0.8605\n",
      "Epoch 119/200\n",
      "178/178 [==============================] - 0s 2ms/step - loss: 0.3368 - accuracy: 0.8633 - val_loss: 0.3405 - val_accuracy: 0.8610\n",
      "Epoch 120/200\n",
      "178/178 [==============================] - 0s 2ms/step - loss: 0.3329 - accuracy: 0.8630 - val_loss: 0.3421 - val_accuracy: 0.8610\n",
      "Epoch 121/200\n",
      "178/178 [==============================] - 0s 2ms/step - loss: 0.3387 - accuracy: 0.8641 - val_loss: 0.3403 - val_accuracy: 0.8615\n",
      "Epoch 122/200\n",
      "178/178 [==============================] - 0s 2ms/step - loss: 0.3346 - accuracy: 0.8655 - val_loss: 0.3416 - val_accuracy: 0.8600\n",
      "Epoch 123/200\n",
      "178/178 [==============================] - 0s 2ms/step - loss: 0.3266 - accuracy: 0.8642 - val_loss: 0.3426 - val_accuracy: 0.8590\n",
      "Epoch 124/200\n",
      "178/178 [==============================] - 0s 2ms/step - loss: 0.3381 - accuracy: 0.8639 - val_loss: 0.3397 - val_accuracy: 0.8600\n",
      "Epoch 125/200\n",
      "178/178 [==============================] - 0s 2ms/step - loss: 0.3325 - accuracy: 0.8651 - val_loss: 0.3411 - val_accuracy: 0.8580\n",
      "Epoch 126/200\n",
      "178/178 [==============================] - 0s 2ms/step - loss: 0.3304 - accuracy: 0.8643 - val_loss: 0.3412 - val_accuracy: 0.8605\n",
      "Epoch 127/200\n",
      "178/178 [==============================] - 0s 2ms/step - loss: 0.3482 - accuracy: 0.8595 - val_loss: 0.3402 - val_accuracy: 0.8600\n",
      "Epoch 128/200\n",
      "178/178 [==============================] - 0s 2ms/step - loss: 0.3348 - accuracy: 0.8604 - val_loss: 0.3415 - val_accuracy: 0.8595\n",
      "Epoch 129/200\n",
      "178/178 [==============================] - 0s 2ms/step - loss: 0.3345 - accuracy: 0.8622 - val_loss: 0.3405 - val_accuracy: 0.8620\n",
      "Epoch 130/200\n",
      "178/178 [==============================] - 0s 2ms/step - loss: 0.3239 - accuracy: 0.8674 - val_loss: 0.3434 - val_accuracy: 0.8595\n",
      "Epoch 131/200\n",
      "178/178 [==============================] - 0s 2ms/step - loss: 0.3443 - accuracy: 0.8564 - val_loss: 0.3406 - val_accuracy: 0.8615\n",
      "Epoch 132/200\n",
      "178/178 [==============================] - 0s 2ms/step - loss: 0.3384 - accuracy: 0.8602 - val_loss: 0.3412 - val_accuracy: 0.8635\n",
      "Epoch 133/200\n",
      "178/178 [==============================] - 0s 2ms/step - loss: 0.3356 - accuracy: 0.8679 - val_loss: 0.3399 - val_accuracy: 0.8625\n",
      "Epoch 134/200\n",
      "178/178 [==============================] - 0s 2ms/step - loss: 0.3358 - accuracy: 0.8633 - val_loss: 0.3405 - val_accuracy: 0.8645\n",
      "Epoch 135/200\n",
      "178/178 [==============================] - 0s 2ms/step - loss: 0.3315 - accuracy: 0.8656 - val_loss: 0.3393 - val_accuracy: 0.8620\n",
      "Epoch 136/200\n",
      "178/178 [==============================] - 0s 2ms/step - loss: 0.3298 - accuracy: 0.8662 - val_loss: 0.3399 - val_accuracy: 0.8640\n",
      "Epoch 137/200\n",
      "178/178 [==============================] - 0s 2ms/step - loss: 0.3453 - accuracy: 0.8590 - val_loss: 0.3404 - val_accuracy: 0.8595\n",
      "Epoch 138/200\n",
      "178/178 [==============================] - 0s 2ms/step - loss: 0.3344 - accuracy: 0.8613 - val_loss: 0.3397 - val_accuracy: 0.8630\n",
      "Epoch 139/200\n",
      "178/178 [==============================] - 0s 2ms/step - loss: 0.3425 - accuracy: 0.8547 - val_loss: 0.3401 - val_accuracy: 0.8620\n",
      "Epoch 140/200\n",
      "178/178 [==============================] - 0s 2ms/step - loss: 0.3317 - accuracy: 0.8629 - val_loss: 0.3391 - val_accuracy: 0.8625\n",
      "Epoch 141/200\n",
      "178/178 [==============================] - 0s 2ms/step - loss: 0.3337 - accuracy: 0.8622 - val_loss: 0.3403 - val_accuracy: 0.8625\n",
      "Epoch 142/200\n",
      "178/178 [==============================] - 0s 2ms/step - loss: 0.3295 - accuracy: 0.8659 - val_loss: 0.3396 - val_accuracy: 0.8665\n",
      "Epoch 143/200\n",
      "178/178 [==============================] - 0s 2ms/step - loss: 0.3331 - accuracy: 0.8667 - val_loss: 0.3407 - val_accuracy: 0.8635\n",
      "Epoch 144/200\n",
      "178/178 [==============================] - 0s 2ms/step - loss: 0.3359 - accuracy: 0.8694 - val_loss: 0.3395 - val_accuracy: 0.8635\n",
      "Epoch 145/200\n",
      "178/178 [==============================] - 0s 2ms/step - loss: 0.3383 - accuracy: 0.8621 - val_loss: 0.3389 - val_accuracy: 0.8630\n",
      "Epoch 146/200\n",
      "178/178 [==============================] - 0s 2ms/step - loss: 0.3225 - accuracy: 0.8636 - val_loss: 0.3421 - val_accuracy: 0.8595\n",
      "Epoch 147/200\n",
      "178/178 [==============================] - 0s 2ms/step - loss: 0.3293 - accuracy: 0.8664 - val_loss: 0.3401 - val_accuracy: 0.8610\n",
      "Epoch 148/200\n",
      "178/178 [==============================] - 0s 2ms/step - loss: 0.3345 - accuracy: 0.8625 - val_loss: 0.3400 - val_accuracy: 0.8610\n",
      "Epoch 149/200\n",
      "178/178 [==============================] - 0s 2ms/step - loss: 0.3224 - accuracy: 0.8649 - val_loss: 0.3415 - val_accuracy: 0.8635\n",
      "Epoch 150/200\n",
      "178/178 [==============================] - 0s 2ms/step - loss: 0.3367 - accuracy: 0.8616 - val_loss: 0.3388 - val_accuracy: 0.8640\n",
      "Epoch 151/200\n",
      "178/178 [==============================] - 0s 2ms/step - loss: 0.3396 - accuracy: 0.8604 - val_loss: 0.3393 - val_accuracy: 0.8610\n",
      "Epoch 152/200\n",
      "178/178 [==============================] - 0s 2ms/step - loss: 0.3371 - accuracy: 0.8652 - val_loss: 0.3400 - val_accuracy: 0.8660\n",
      "Epoch 153/200\n",
      "178/178 [==============================] - 0s 2ms/step - loss: 0.3207 - accuracy: 0.8721 - val_loss: 0.3394 - val_accuracy: 0.8625\n",
      "Epoch 154/200\n",
      "178/178 [==============================] - 0s 2ms/step - loss: 0.3313 - accuracy: 0.8648 - val_loss: 0.3392 - val_accuracy: 0.8620\n",
      "Epoch 155/200\n",
      "178/178 [==============================] - 0s 2ms/step - loss: 0.3466 - accuracy: 0.8620 - val_loss: 0.3413 - val_accuracy: 0.8590\n",
      "Epoch 156/200\n",
      "178/178 [==============================] - 0s 2ms/step - loss: 0.3391 - accuracy: 0.8580 - val_loss: 0.3392 - val_accuracy: 0.8650\n",
      "Epoch 157/200\n",
      "178/178 [==============================] - 0s 2ms/step - loss: 0.3347 - accuracy: 0.8648 - val_loss: 0.3410 - val_accuracy: 0.8630\n",
      "Epoch 158/200\n",
      "178/178 [==============================] - 0s 2ms/step - loss: 0.3272 - accuracy: 0.8728 - val_loss: 0.3395 - val_accuracy: 0.8630\n",
      "Epoch 159/200\n",
      "178/178 [==============================] - 0s 2ms/step - loss: 0.3364 - accuracy: 0.8655 - val_loss: 0.3401 - val_accuracy: 0.8605\n",
      "Epoch 160/200\n",
      "178/178 [==============================] - 0s 2ms/step - loss: 0.3385 - accuracy: 0.8586 - val_loss: 0.3393 - val_accuracy: 0.8645\n",
      "Epoch 161/200\n",
      "178/178 [==============================] - 0s 2ms/step - loss: 0.3351 - accuracy: 0.8625 - val_loss: 0.3397 - val_accuracy: 0.8645\n",
      "Epoch 162/200\n",
      "178/178 [==============================] - 0s 2ms/step - loss: 0.3471 - accuracy: 0.8554 - val_loss: 0.3405 - val_accuracy: 0.8615\n",
      "Epoch 163/200\n",
      "178/178 [==============================] - 0s 2ms/step - loss: 0.3316 - accuracy: 0.8597 - val_loss: 0.3394 - val_accuracy: 0.8610\n",
      "Epoch 164/200\n",
      "178/178 [==============================] - 0s 2ms/step - loss: 0.3298 - accuracy: 0.8624 - val_loss: 0.3392 - val_accuracy: 0.8645\n",
      "Epoch 165/200\n",
      "178/178 [==============================] - 0s 2ms/step - loss: 0.3302 - accuracy: 0.8620 - val_loss: 0.3393 - val_accuracy: 0.8645\n",
      "Epoch 166/200\n",
      "178/178 [==============================] - 0s 2ms/step - loss: 0.3259 - accuracy: 0.8689 - val_loss: 0.3406 - val_accuracy: 0.8590\n",
      "Epoch 167/200\n",
      "178/178 [==============================] - 0s 2ms/step - loss: 0.3345 - accuracy: 0.8626 - val_loss: 0.3413 - val_accuracy: 0.8590\n",
      "Epoch 168/200\n",
      "178/178 [==============================] - 0s 2ms/step - loss: 0.3433 - accuracy: 0.8575 - val_loss: 0.3411 - val_accuracy: 0.8655\n",
      "Epoch 169/200\n",
      "178/178 [==============================] - 0s 2ms/step - loss: 0.3391 - accuracy: 0.8623 - val_loss: 0.3411 - val_accuracy: 0.8605\n",
      "Epoch 170/200\n",
      "178/178 [==============================] - 0s 2ms/step - loss: 0.3278 - accuracy: 0.8626 - val_loss: 0.3396 - val_accuracy: 0.8615\n",
      "Epoch 171/200\n",
      "178/178 [==============================] - 0s 2ms/step - loss: 0.3335 - accuracy: 0.8656 - val_loss: 0.3400 - val_accuracy: 0.8630\n",
      "Epoch 172/200\n",
      "178/178 [==============================] - 0s 2ms/step - loss: 0.3254 - accuracy: 0.8645 - val_loss: 0.3402 - val_accuracy: 0.8610\n",
      "Epoch 173/200\n",
      "178/178 [==============================] - 0s 2ms/step - loss: 0.3355 - accuracy: 0.8604 - val_loss: 0.3404 - val_accuracy: 0.8600\n",
      "Epoch 174/200\n",
      "178/178 [==============================] - 0s 2ms/step - loss: 0.3236 - accuracy: 0.8654 - val_loss: 0.3393 - val_accuracy: 0.8615\n",
      "Epoch 175/200\n",
      "178/178 [==============================] - 0s 2ms/step - loss: 0.3412 - accuracy: 0.8583 - val_loss: 0.3402 - val_accuracy: 0.8620\n",
      "Epoch 176/200\n",
      "178/178 [==============================] - 0s 2ms/step - loss: 0.3360 - accuracy: 0.8617 - val_loss: 0.3401 - val_accuracy: 0.8645\n",
      "Epoch 177/200\n",
      "178/178 [==============================] - 0s 2ms/step - loss: 0.3429 - accuracy: 0.8583 - val_loss: 0.3382 - val_accuracy: 0.8625\n",
      "Epoch 178/200\n",
      "178/178 [==============================] - 0s 2ms/step - loss: 0.3335 - accuracy: 0.8639 - val_loss: 0.3439 - val_accuracy: 0.8565\n",
      "Epoch 179/200\n",
      "178/178 [==============================] - 0s 2ms/step - loss: 0.3319 - accuracy: 0.8656 - val_loss: 0.3395 - val_accuracy: 0.8625\n",
      "Epoch 180/200\n",
      "178/178 [==============================] - 0s 2ms/step - loss: 0.3393 - accuracy: 0.8585 - val_loss: 0.3394 - val_accuracy: 0.8620\n",
      "Epoch 181/200\n",
      "178/178 [==============================] - 0s 2ms/step - loss: 0.3268 - accuracy: 0.8665 - val_loss: 0.3388 - val_accuracy: 0.8645\n",
      "Epoch 182/200\n",
      "178/178 [==============================] - 0s 2ms/step - loss: 0.3322 - accuracy: 0.8639 - val_loss: 0.3424 - val_accuracy: 0.8660\n",
      "Epoch 183/200\n",
      "178/178 [==============================] - 0s 2ms/step - loss: 0.3253 - accuracy: 0.8700 - val_loss: 0.3388 - val_accuracy: 0.8650\n",
      "Epoch 184/200\n",
      "178/178 [==============================] - 0s 2ms/step - loss: 0.3354 - accuracy: 0.8636 - val_loss: 0.3383 - val_accuracy: 0.8650\n",
      "Epoch 185/200\n",
      "178/178 [==============================] - 0s 2ms/step - loss: 0.3350 - accuracy: 0.8652 - val_loss: 0.3391 - val_accuracy: 0.8660\n",
      "Epoch 186/200\n",
      "178/178 [==============================] - 0s 2ms/step - loss: 0.3324 - accuracy: 0.8626 - val_loss: 0.3395 - val_accuracy: 0.8645\n",
      "Epoch 187/200\n",
      "178/178 [==============================] - 0s 2ms/step - loss: 0.3322 - accuracy: 0.8626 - val_loss: 0.3385 - val_accuracy: 0.8650\n",
      "Epoch 188/200\n",
      "178/178 [==============================] - 0s 2ms/step - loss: 0.3463 - accuracy: 0.8606 - val_loss: 0.3387 - val_accuracy: 0.8640\n",
      "Epoch 189/200\n",
      "178/178 [==============================] - 0s 2ms/step - loss: 0.3325 - accuracy: 0.8630 - val_loss: 0.3398 - val_accuracy: 0.8610\n",
      "Epoch 190/200\n",
      "178/178 [==============================] - 0s 2ms/step - loss: 0.3498 - accuracy: 0.8549 - val_loss: 0.3394 - val_accuracy: 0.8655\n",
      "Epoch 191/200\n",
      "178/178 [==============================] - 0s 2ms/step - loss: 0.3486 - accuracy: 0.8552 - val_loss: 0.3405 - val_accuracy: 0.8620\n",
      "Epoch 192/200\n",
      "178/178 [==============================] - 0s 2ms/step - loss: 0.3402 - accuracy: 0.8590 - val_loss: 0.3394 - val_accuracy: 0.8630\n",
      "Epoch 193/200\n",
      "178/178 [==============================] - 0s 2ms/step - loss: 0.3298 - accuracy: 0.8686 - val_loss: 0.3390 - val_accuracy: 0.8635\n",
      "Epoch 194/200\n",
      "178/178 [==============================] - 0s 2ms/step - loss: 0.3305 - accuracy: 0.8675 - val_loss: 0.3412 - val_accuracy: 0.8645\n",
      "Epoch 195/200\n",
      "178/178 [==============================] - 0s 2ms/step - loss: 0.3261 - accuracy: 0.8661 - val_loss: 0.3400 - val_accuracy: 0.8640\n",
      "Epoch 196/200\n",
      "178/178 [==============================] - 0s 2ms/step - loss: 0.3364 - accuracy: 0.8602 - val_loss: 0.3414 - val_accuracy: 0.8655\n",
      "Epoch 197/200\n",
      "178/178 [==============================] - 0s 2ms/step - loss: 0.3420 - accuracy: 0.8585 - val_loss: 0.3390 - val_accuracy: 0.8635\n",
      "Epoch 198/200\n",
      "178/178 [==============================] - 0s 2ms/step - loss: 0.3403 - accuracy: 0.8621 - val_loss: 0.3427 - val_accuracy: 0.8650\n",
      "Epoch 199/200\n",
      "178/178 [==============================] - 0s 2ms/step - loss: 0.3248 - accuracy: 0.8661 - val_loss: 0.3410 - val_accuracy: 0.8625\n",
      "Epoch 200/200\n",
      "178/178 [==============================] - 0s 2ms/step - loss: 0.3436 - accuracy: 0.8591 - val_loss: 0.3401 - val_accuracy: 0.8635\n"
     ]
    }
   ],
   "source": [
    "history=model.fit(X_train, y_train, batch_size=45, epochs=200, validation_data=(X_test,y_test))"
   ]
  },
  {
   "cell_type": "markdown",
   "metadata": {
    "id": "xCDa646yxJ-B"
   },
   "source": [
    "# 7. Predict the results (5 points)"
   ]
  },
  {
   "cell_type": "code",
   "execution_count": 60,
   "metadata": {
    "colab": {
     "base_uri": "https://localhost:8080/"
    },
    "id": "m_I0p8_8g0Oe",
    "outputId": "71ee3e04-02c5-48b0-fa7f-cc7f6a4ffc96"
   },
   "outputs": [
    {
     "name": "stdout",
     "output_type": "stream",
     "text": [
      "63/63 [==============================] - 0s 1ms/step - loss: 0.3401 - accuracy: 0.8635\n",
      "[0.34006795287132263, 0.8634999990463257]\n"
     ]
    }
   ],
   "source": [
    "#test accuracy\n",
    "score = model.evaluate(X_test, y_test,verbose=1)\n",
    "\n",
    "print(score)"
   ]
  },
  {
   "cell_type": "code",
   "execution_count": 61,
   "metadata": {
    "colab": {
     "base_uri": "https://localhost:8080/"
    },
    "id": "hBoTCs8Ghk1j",
    "outputId": "900fb9ff-e477-402a-acb8-7bf4dfd23904"
   },
   "outputs": [
    {
     "name": "stdout",
     "output_type": "stream",
     "text": [
      "250/250 [==============================] - 0s 1ms/step - loss: 0.3319 - accuracy: 0.8646\n",
      "[0.331866055727005, 0.8646249771118164]\n"
     ]
    }
   ],
   "source": [
    "#train accuracy\n",
    "score = model.evaluate(X_train, y_train,verbose=1)\n",
    "\n",
    "print(score)"
   ]
  },
  {
   "cell_type": "code",
   "execution_count": 62,
   "metadata": {
    "colab": {
     "base_uri": "https://localhost:8080/"
    },
    "id": "ZADUl-PjhzFe",
    "outputId": "d17e3214-4888-4036-8780-1611742120bf"
   },
   "outputs": [
    {
     "data": {
      "text/plain": [
       "array([[9.0673763e-01, 9.3262322e-02],\n",
       "       [9.7161555e-01, 2.8384464e-02],\n",
       "       [9.9887162e-01, 1.1283708e-03],\n",
       "       ...,\n",
       "       [9.4531798e-01, 5.4682039e-02],\n",
       "       [9.9939299e-01, 6.0696504e-04],\n",
       "       [8.8893032e-01, 1.1106962e-01]], dtype=float32)"
      ]
     },
     "execution_count": 62,
     "metadata": {
      "tags": []
     },
     "output_type": "execute_result"
    }
   ],
   "source": [
    "y_pred = model.predict(X_test)\n",
    "y_pred"
   ]
  },
  {
   "cell_type": "code",
   "execution_count": 63,
   "metadata": {
    "id": "CqphtItxh5ay"
   },
   "outputs": [],
   "source": [
    "y_pred = (y_pred > 0.5)"
   ]
  },
  {
   "cell_type": "markdown",
   "metadata": {
    "id": "R06sdI4PxPL5"
   },
   "source": [
    "# 8. Print the Accuracy score and confusion matrix (2.5 points)"
   ]
  },
  {
   "cell_type": "code",
   "execution_count": 64,
   "metadata": {
    "colab": {
     "base_uri": "https://localhost:8080/"
    },
    "id": "SG1vJYj_jSZL",
    "outputId": "eb6a81bc-0be1-45d9-b1b5-ec4e7fe281e4"
   },
   "outputs": [
    {
     "data": {
      "text/plain": [
       "array([[1532,   55],\n",
       "       [ 218,  195]])"
      ]
     },
     "execution_count": 64,
     "metadata": {
      "tags": []
     },
     "output_type": "execute_result"
    }
   ],
   "source": [
    "from sklearn.metrics import confusion_matrix\n",
    "\n",
    "confmatrx= confusion_matrix(y_test.argmax(axis=1), y_pred.argmax(axis=1))\n",
    "confmatrx"
   ]
  },
  {
   "cell_type": "code",
   "execution_count": 65,
   "metadata": {
    "colab": {
     "base_uri": "https://localhost:8080/",
     "height": 294
    },
    "id": "cfxDDgaKjVnj",
    "outputId": "37aac979-47cb-4a4f-91dd-6202f792990d"
   },
   "outputs": [
    {
     "data": {
      "image/png": "[encoded data removed]",
      "text/plain": [
       "<Figure size 432x288 with 1 Axes>"
      ]
     },
     "metadata": {
      "needs_background": "light",
      "tags": []
     },
     "output_type": "display_data"
    }
   ],
   "source": [
    "plt.plot(np.array(history.history['accuracy']) * 100)\n",
    "plt.plot(np.array(history.history['val_accuracy']) * 100)\n",
    "plt.ylabel('accuracy')\n",
    "plt.xlabel('epochs')\n",
    "plt.legend(['train', 'validation'])\n",
    "plt.title('Accuracy over epochs')\n",
    "plt.show()"
   ]
  },
  {
   "cell_type": "code",
   "execution_count": 66,
   "metadata": {
    "colab": {
     "base_uri": "https://localhost:8080/"
    },
    "id": "PDPrJAKUjb24",
    "outputId": "cd755971-b8c1-475e-a105-019863ee3b69"
   },
   "outputs": [
    {
     "name": "stdout",
     "output_type": "stream",
     "text": [
      "86.35 % of testing data was classified correctly\n"
     ]
    }
   ],
   "source": [
    "print (((confmatrx[0][0]+confmatrx[1][1])*100)/(len(y_test)), '% of testing data was classified correctly')"
   ]
  },
  {
   "cell_type": "code",
   "execution_count": 67,
   "metadata": {
    "colab": {
     "base_uri": "https://localhost:8080/"
    },
    "id": "qillbklpjfab",
    "outputId": "1d18ea62-5fa6-416a-ee96-06f3c31505c9"
   },
   "outputs": [
    {
     "data": {
      "text/plain": [
       "0.8635"
      ]
     },
     "execution_count": 67,
     "metadata": {
      "tags": []
     },
     "output_type": "execute_result"
    }
   ],
   "source": [
    "# Checking the accuracy using accuracy_score as well to check if the above calculation is correct or not.\n",
    "from sklearn.metrics import accuracy_score\n",
    "accuracy_score(y_test, y_pred)"
   ]
  },
  {
   "cell_type": "markdown",
   "metadata": {
    "id": "Tyb1opXmjtU1"
   },
   "source": [
    "**Summary**\n",
    "\n",
    "The Train and Test set are almost similar. It shows that the model did not  verfit on the train set.\n",
    "On Compiling the Neural Network, I have used optimizer as \"adam\" as it is very efficient to Stochastic Gradient Decent. The loss function used is \"binary_crossentropy which is used within adam.\n",
    "The accuracy metrics which will be evaluated(minimized) by the model. The \"Accuracy\" is used as a criteria to improve model performance.¶\n",
    "On calculation of the accuracy based on the Confusion Matrix, it came out as 86.45(APPROX). which matches with the score calculated through various EPOCH\n",
    "We can used Optimizer as \"SGD\" as well to check if we get better results and accuracy.\n",
    "HOWEVER, FOR BETTER RESULT WE CAN YOUR HYPER PARAMETER TUNING FOR BETTER RESULT."
   ]
  }
 ],
 "metadata": {
  "colab": {
   "collapsed_sections": [],
   "name": "Intro to Neural Nets Devendra",
   "provenance": []
  },
  "kernelspec": {
   "display_name": "Python 3",
   "language": "python",
   "name": "python3"
  },
  "language_info": {
   "codemirror_mode": {
    "name": "ipython",
    "version": 3
   },
   "file_extension": ".py",
   "mimetype": "text/x-python",
   "name": "python",
   "nbconvert_exporter": "python",
   "pygments_lexer": "ipython3",
   "version": "3.7.6"
  }
 },
 "nbformat": 4,
 "nbformat_minor": 1
}
